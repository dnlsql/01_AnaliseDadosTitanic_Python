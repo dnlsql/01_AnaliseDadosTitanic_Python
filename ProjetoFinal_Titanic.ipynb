{
 "cells": [
  {
   "cell_type": "markdown",
   "metadata": {},
   "source": [
    "# Projeto Final - Análise dos Dados do Titanic"
   ]
  },
  {
   "cell_type": "markdown",
   "metadata": {},
   "source": [
    "O Conjunto de dados foi o \"titanic-data-6.csv\".\n",
    "Esse conjunto de dados tem por informação alguns dados dos que foram sobrevivente ou mortos."
   ]
  },
  {
   "cell_type": "markdown",
   "metadata": {},
   "source": [
    "Foram respondidas as seguintes perguntas:\n",
    "\n",
    "   1 - Entre as pessoas que sobreviveram e as pessoas mortas, quais tiveram um maior número?<br>\n",
    "   2 - Qual grupo por faixa etária, teve a maior taxa de sobrevivência?<br>\n",
    "   3 - Entre as classes que haviam no Titanic, qual sofreu maior perda?<br>\n",
    "   4 - Por sexo, qual teve maior perda significativa?"
   ]
  },
  {
   "cell_type": "markdown",
   "metadata": {},
   "source": [
    "Breve Descrição:\n",
    "    \n",
    "Depois de carregar os dados do csv, foi possível observar os dados e assim constatei que os campos\n",
    "(Sobrevivente, Idade, ClasseBilhete, Sexo), seriam ideais para identificar os tipos de pessoas que tenham \n",
    "morrido ou sobrevivido ao infeliz acidente."
   ]
  },
  {
   "cell_type": "markdown",
   "metadata": {},
   "source": [
    "Limpezas:\n",
    "    \n",
    "Foi verificado que o campo de ano contia valores nulos e com isso, todo valor nulo foi ajustado a média entre eles. Havia também registros com o tipo float e o mesmo foi convertido para inteiro;\n",
    "        \n",
    "Os campos foram renomeados;\n",
    "    \n",
    "Verificado se existem registros duplicados;\n",
    "\n",
    "Uma nova coluna para foi criada para categorizar a faíxa etária;\n",
    "    \n",
    "O campo Sexo foi ajustado para male == M e female == F."
   ]
  },
  {
   "cell_type": "markdown",
   "metadata": {},
   "source": [
    "Gráficos:\n",
    "\n",
    "\n",
    "Estes foram feitos todos com gráfico de barras e tentando ao máximo trazer ao analista, maior clareza em relação aos dados utilizados e respondendo de forma simples e objetiva as perguntas que foram sugeridas."
   ]
  },
  {
   "cell_type": "markdown",
   "metadata": {},
   "source": [
    "Sites de Referências:\n",
    "\n",
    "http://pandas.pydata.org/pandas-docs/stable/generated/pandas.DataFrame.plot.bar.html<br>\n",
    "https://pandas.pydata.org/pandas-docs/stable/generated/pandas.DataFrame.filter.html<br>\n",
    "https://matplotlib.org/users/pyplot_tutorial.html<br>\n",
    "https://stackoverflow.com/questions/11869910/pandas-filter-rows-of-dataframe-with-operator-chaining<br>\n",
    "https://stackoverflow.com/questions/44743109/plotting-average-by-each-genres-pandas<br>\n",
    "https://stackoverflow.com/questions/31494870/pandas-dataframe-no-numeric-data-to-plot-error<br>\n",
    "https://stackoverflow.com/questions/13784192/creating-an-empty-pandas-dataframe-then-filling-it<br>\n",
    "https://stackoverflow.com/questions/34682828/extracting-specific-selected-columns-to-new-dataframe-as-a-copy<br>\n",
    "https://stackoverflow.com/questions/13295735/how-can-i-replace-all-the-nan-values-with-zeros-in-a-column-of-a-pandas-datafra<br>\n",
    "https://stackoverflow.com/questions/21291259/convert-floats-to-ints-in-pandas<br>\n",
    "https://www.kaggle.com/sashr07/kaggle-titanic-tutorial<br>\n",
    "https://www.datacamp.com/community/tutorials/15-easy-solutions-data-frame-problems-r<br>\n",
    "https://github.com/pandas-dev/pandas/issues/4742<br>\n",
    "https://www.reddit.com/r/learnpython/comments/4zn20y/how_to_convert_sparse_pandas_dataframe_with_nan/<br>\n",
    "https://www.ritchieng.com/pandas-changing-datatype/<br>\n",
    "http://pbpython.com/pandas_dtypes.html<br>\n",
    "http://dni-institute.in/blogs/tag/pandas-convert-float-to-int/<br>\n",
    "https://www.peterbe.com/plog/interesting-casting-in-python<br>\n",
    "https://realpython.com/python-matplotlib-guide/<br>\n",
    "https://stackoverflow.com/questions/34162443/why-do-many-examples-use-fig-ax-plt-subplots-in-matplotlib-pyplot-python<br>"
   ]
  },
  {
   "cell_type": "markdown",
   "metadata": {},
   "source": [
    "# Tratamento dos Dados"
   ]
  },
  {
   "cell_type": "code",
   "execution_count": 106,
   "metadata": {},
   "outputs": [],
   "source": [
    "# importação dos módulos\n",
    "import pandas as pd\n",
    "\n",
    "import numpy as np\n",
    "\n",
    "import matplotlib.pyplot as plt\n",
    "% matplotlib inline\n",
    "\n",
    "import seaborn as sns\n",
    "sns.set(style=\"darkgrid\")"
   ]
  },
  {
   "cell_type": "code",
   "execution_count": 107,
   "metadata": {},
   "outputs": [],
   "source": [
    "# Cria DataFrame\n",
    "df_titanic = pd.read_csv('titanic-data-6.csv')"
   ]
  },
  {
   "cell_type": "code",
   "execution_count": 108,
   "metadata": {},
   "outputs": [
    {
     "name": "stdout",
     "output_type": "stream",
     "text": [
      "<class 'pandas.core.frame.DataFrame'>\n",
      "RangeIndex: 891 entries, 0 to 890\n",
      "Data columns (total 12 columns):\n",
      "PassengerId    891 non-null int64\n",
      "Survived       891 non-null int64\n",
      "Pclass         891 non-null int64\n",
      "Name           891 non-null object\n",
      "Sex            891 non-null object\n",
      "Age            714 non-null float64\n",
      "SibSp          891 non-null int64\n",
      "Parch          891 non-null int64\n",
      "Ticket         891 non-null object\n",
      "Fare           891 non-null float64\n",
      "Cabin          204 non-null object\n",
      "Embarked       889 non-null object\n",
      "dtypes: float64(2), int64(5), object(5)\n",
      "memory usage: 83.6+ KB\n"
     ]
    }
   ],
   "source": [
    "# Mostra as caracteristicas do DataFrame\n",
    "df_titanic.info()"
   ]
  },
  {
   "cell_type": "code",
   "execution_count": 109,
   "metadata": {},
   "outputs": [
    {
     "data": {
      "text/plain": [
       "177"
      ]
     },
     "execution_count": 109,
     "metadata": {},
     "output_type": "execute_result"
    }
   ],
   "source": [
    "# Verificação da quantidade de valores nulos para a coluna Age\n",
    "df_titanic.Age.isna().sum()"
   ]
  },
  {
   "cell_type": "code",
   "execution_count": 110,
   "metadata": {},
   "outputs": [
    {
     "data": {
      "text/plain": [
       "array([22, 38, 26, 35, 29, 54,  2, 27, 14,  4, 58, 20, 39, 55, 31, 34, 15,\n",
       "       28,  8, 19, 40, 66, 42, 21, 18,  3,  7, 49, 65,  5, 11, 45, 17, 32,\n",
       "       16, 25,  0, 30, 33, 23, 24, 46, 59, 71, 37, 47, 70, 12,  9, 36, 51,\n",
       "       44,  1, 61, 56, 50, 62, 41, 52, 63, 43, 60, 10, 64, 13, 48, 53, 57,\n",
       "       80,  6, 74], dtype=int64)"
      ]
     },
     "execution_count": 110,
     "metadata": {},
     "output_type": "execute_result"
    }
   ],
   "source": [
    "'''\n",
    "Para o campo Age, foi verificado que existem 177 registros nulos e dessa forma será utilizada a técnica Average imputation.\n",
    "Nesta técnica utilizamos o valor médio da coluna (para as observações que possuem valor) e atribuímos este valor para as\n",
    "observações que possuem missing.\n",
    "Ref.: https://bit.ly/2Wb73s5\n",
    "\n",
    "Obs: A página https://bit.ly/2ROdEKf saiu do ar e o site está em construção.\n",
    "\n",
    "Dessa forma, ao verificar os valores nulos do campo Age, é efetuado um cálculo de média dos valores não nulos desse campo\n",
    "e também a conversão do campo para inteiro.\n",
    "'''\n",
    "\n",
    "# Tratamento do campo Age\n",
    "df_titanic.Age = df_titanic.Age.fillna(df_titanic['Age'].mean()).astype('int64')\n",
    "\n",
    "# Verifica o resultado\n",
    "df_titanic.Age.unique()"
   ]
  },
  {
   "cell_type": "code",
   "execution_count": 111,
   "metadata": {},
   "outputs": [
    {
     "name": "stdout",
     "output_type": "stream",
     "text": [
      "<class 'pandas.core.frame.DataFrame'>\n",
      "RangeIndex: 891 entries, 0 to 890\n",
      "Data columns (total 12 columns):\n",
      "PassengerId    891 non-null int64\n",
      "Survived       891 non-null int64\n",
      "Pclass         891 non-null int64\n",
      "Name           891 non-null object\n",
      "Sex            891 non-null object\n",
      "Age            891 non-null int64\n",
      "SibSp          891 non-null int64\n",
      "Parch          891 non-null int64\n",
      "Ticket         891 non-null object\n",
      "Fare           891 non-null float64\n",
      "Cabin          204 non-null object\n",
      "Embarked       889 non-null object\n",
      "dtypes: float64(1), int64(6), object(5)\n",
      "memory usage: 83.6+ KB\n"
     ]
    }
   ],
   "source": [
    "# Nova verificação dos campos\n",
    "df_titanic.info()"
   ]
  },
  {
   "cell_type": "code",
   "execution_count": 112,
   "metadata": {},
   "outputs": [],
   "source": [
    "# Criação de variável com novos nomes de campos para substituição no dataframe\n",
    "colunas = ['ID'\n",
    "           ,'Sobrevivente'\n",
    "           ,'Classe_Bilhete'\n",
    "           ,'Nome'\n",
    "           ,'Sexo'\n",
    "           ,'Idade'\n",
    "           ,'QtIrmaosConj'\n",
    "           ,'QtPaisFilhos'\n",
    "           ,'Ticket'\n",
    "           ,'Tarifa'\n",
    "           ,'Cabine'\n",
    "           ,'PortoEmbarque'\n",
    "          ]\n",
    "\n",
    "# Renomear as colunas\n",
    "df_titanic.set_axis(colunas\n",
    "                    ,axis=1\n",
    "                    ,inplace=True\n",
    "                   )"
   ]
  },
  {
   "cell_type": "code",
   "execution_count": 113,
   "metadata": {},
   "outputs": [
    {
     "data": {
      "text/plain": [
       "0"
      ]
     },
     "execution_count": 113,
     "metadata": {},
     "output_type": "execute_result"
    }
   ],
   "source": [
    "# Verificar se existem registros duplicados\n",
    "df_titanic.duplicated().sum()"
   ]
  },
  {
   "cell_type": "markdown",
   "metadata": {},
   "source": [
    "Criação da coluna faixa_etária para classficar por idade entre os seguintes inteválos:<br>\n",
    "    De 0 a 14 = Criança <br>\n",
    "    De 15 a 50 = Adulto <br>\n",
    "    De 51 a 150 = Idoso <br>"
   ]
  },
  {
   "cell_type": "code",
   "execution_count": 114,
   "metadata": {},
   "outputs": [],
   "source": [
    "# Criação das variáveis para o invervalo e sua respectiva categoria\n",
    "intervalos = [0, 14, 50, 150]\n",
    "descricao = [\"criancas\", \"adultos\", \"idosos\"]\n",
    "\n",
    "# Utilização da função cut (https://bit.ly/2TdvEuv) para categorizar cada idade em sua faixa etária\n",
    "df_titanic[\"faixa_etaria\"] = pd.cut(x = df_titanic.Idade\n",
    "                                    ,bins = intervalos\n",
    "                                    ,labels = descricao\n",
    "                                   )"
   ]
  },
  {
   "cell_type": "code",
   "execution_count": 115,
   "metadata": {},
   "outputs": [],
   "source": [
    "# Ajuste no campo Sexo\n",
    "Sexo = {'male': 'M','female': 'F'}\n",
    "df_titanic.Sexo = [Sexo[item] for item in df_titanic.Sexo]"
   ]
  },
  {
   "cell_type": "code",
   "execution_count": 117,
   "metadata": {
    "scrolled": true
   },
   "outputs": [
    {
     "data": {
      "text/html": [
       "<div>\n",
       "<style scoped>\n",
       "    .dataframe tbody tr th:only-of-type {\n",
       "        vertical-align: middle;\n",
       "    }\n",
       "\n",
       "    .dataframe tbody tr th {\n",
       "        vertical-align: top;\n",
       "    }\n",
       "\n",
       "    .dataframe thead th {\n",
       "        text-align: right;\n",
       "    }\n",
       "</style>\n",
       "<table border=\"1\" class=\"dataframe\">\n",
       "  <thead>\n",
       "    <tr style=\"text-align: right;\">\n",
       "      <th></th>\n",
       "      <th>ID</th>\n",
       "      <th>Sobrevivente</th>\n",
       "      <th>Classe_Bilhete</th>\n",
       "      <th>Nome</th>\n",
       "      <th>Sexo</th>\n",
       "      <th>Idade</th>\n",
       "      <th>QtIrmaosConj</th>\n",
       "      <th>QtPaisFilhos</th>\n",
       "      <th>Ticket</th>\n",
       "      <th>Tarifa</th>\n",
       "      <th>Cabine</th>\n",
       "      <th>PortoEmbarque</th>\n",
       "      <th>faixa_etaria</th>\n",
       "    </tr>\n",
       "  </thead>\n",
       "  <tbody>\n",
       "    <tr>\n",
       "      <th>0</th>\n",
       "      <td>1</td>\n",
       "      <td>0</td>\n",
       "      <td>3</td>\n",
       "      <td>Braund, Mr. Owen Harris</td>\n",
       "      <td>M</td>\n",
       "      <td>22</td>\n",
       "      <td>1</td>\n",
       "      <td>0</td>\n",
       "      <td>A/5 21171</td>\n",
       "      <td>7.2500</td>\n",
       "      <td>NaN</td>\n",
       "      <td>S</td>\n",
       "      <td>adultos</td>\n",
       "    </tr>\n",
       "    <tr>\n",
       "      <th>1</th>\n",
       "      <td>2</td>\n",
       "      <td>1</td>\n",
       "      <td>1</td>\n",
       "      <td>Cumings, Mrs. John Bradley (Florence Briggs Th...</td>\n",
       "      <td>F</td>\n",
       "      <td>38</td>\n",
       "      <td>1</td>\n",
       "      <td>0</td>\n",
       "      <td>PC 17599</td>\n",
       "      <td>71.2833</td>\n",
       "      <td>C85</td>\n",
       "      <td>C</td>\n",
       "      <td>adultos</td>\n",
       "    </tr>\n",
       "    <tr>\n",
       "      <th>2</th>\n",
       "      <td>3</td>\n",
       "      <td>1</td>\n",
       "      <td>3</td>\n",
       "      <td>Heikkinen, Miss. Laina</td>\n",
       "      <td>F</td>\n",
       "      <td>26</td>\n",
       "      <td>0</td>\n",
       "      <td>0</td>\n",
       "      <td>STON/O2. 3101282</td>\n",
       "      <td>7.9250</td>\n",
       "      <td>NaN</td>\n",
       "      <td>S</td>\n",
       "      <td>adultos</td>\n",
       "    </tr>\n",
       "    <tr>\n",
       "      <th>3</th>\n",
       "      <td>4</td>\n",
       "      <td>1</td>\n",
       "      <td>1</td>\n",
       "      <td>Futrelle, Mrs. Jacques Heath (Lily May Peel)</td>\n",
       "      <td>F</td>\n",
       "      <td>35</td>\n",
       "      <td>1</td>\n",
       "      <td>0</td>\n",
       "      <td>113803</td>\n",
       "      <td>53.1000</td>\n",
       "      <td>C123</td>\n",
       "      <td>S</td>\n",
       "      <td>adultos</td>\n",
       "    </tr>\n",
       "    <tr>\n",
       "      <th>4</th>\n",
       "      <td>5</td>\n",
       "      <td>0</td>\n",
       "      <td>3</td>\n",
       "      <td>Allen, Mr. William Henry</td>\n",
       "      <td>M</td>\n",
       "      <td>35</td>\n",
       "      <td>0</td>\n",
       "      <td>0</td>\n",
       "      <td>373450</td>\n",
       "      <td>8.0500</td>\n",
       "      <td>NaN</td>\n",
       "      <td>S</td>\n",
       "      <td>adultos</td>\n",
       "    </tr>\n",
       "  </tbody>\n",
       "</table>\n",
       "</div>"
      ],
      "text/plain": [
       "   ID  Sobrevivente  Classe_Bilhete  \\\n",
       "0   1             0               3   \n",
       "1   2             1               1   \n",
       "2   3             1               3   \n",
       "3   4             1               1   \n",
       "4   5             0               3   \n",
       "\n",
       "                                                Nome Sexo  Idade  \\\n",
       "0                            Braund, Mr. Owen Harris    M     22   \n",
       "1  Cumings, Mrs. John Bradley (Florence Briggs Th...    F     38   \n",
       "2                             Heikkinen, Miss. Laina    F     26   \n",
       "3       Futrelle, Mrs. Jacques Heath (Lily May Peel)    F     35   \n",
       "4                           Allen, Mr. William Henry    M     35   \n",
       "\n",
       "   QtIrmaosConj  QtPaisFilhos            Ticket   Tarifa Cabine PortoEmbarque  \\\n",
       "0             1             0         A/5 21171   7.2500    NaN             S   \n",
       "1             1             0          PC 17599  71.2833    C85             C   \n",
       "2             0             0  STON/O2. 3101282   7.9250    NaN             S   \n",
       "3             1             0            113803  53.1000   C123             S   \n",
       "4             0             0            373450   8.0500    NaN             S   \n",
       "\n",
       "  faixa_etaria  \n",
       "0      adultos  \n",
       "1      adultos  \n",
       "2      adultos  \n",
       "3      adultos  \n",
       "4      adultos  "
      ]
     },
     "execution_count": 117,
     "metadata": {},
     "output_type": "execute_result"
    }
   ],
   "source": [
    "# Mostrar os resultados\n",
    "df_titanic.head()"
   ]
  },
  {
   "cell_type": "markdown",
   "metadata": {},
   "source": [
    "# Perguntas e Respostas:"
   ]
  },
  {
   "cell_type": "markdown",
   "metadata": {},
   "source": [
    "### Entre os sobrevivêntes e os mortos, quais tiveram a maior taxa?"
   ]
  },
  {
   "cell_type": "code",
   "execution_count": 118,
   "metadata": {},
   "outputs": [
    {
     "name": "stdout",
     "output_type": "stream",
     "text": [
      "Total de Sobreviventes: 342\n",
      "Total de Mortos: 549\n"
     ]
    },
    {
     "data": {
      "image/png": "[encoded data removed]",
      "text/plain": [
       "<Figure size 432x288 with 1 Axes>"
      ]
     },
     "metadata": {},
     "output_type": "display_data"
    }
   ],
   "source": [
    "# A utilização do parâmetro shape[0], foi para buscar o total de linhas paras o grupo de sobreviventes e mortos.\n",
    "# Variáveis foram criados para maior controle e organização\n",
    "\n",
    "# Declaração de Variáveis\n",
    "qt_sobreviventes = df_titanic.query('Sobrevivente == \"1\"')['Sobrevivente'].shape[0]\n",
    "qt_mortos = df_titanic.query('Sobrevivente == \"0\"')['Sobrevivente'].shape[0]\n",
    "label = ['Sobreviventes', 'Mortos']\n",
    "\n",
    "# Retorna os totais\n",
    "print(\"Total de Sobreviventes: \" + str(qt_sobreviventes)\n",
    "      + '\\n'\n",
    "      + \"Total de Mortos: \" + str(qt_mortos))\n",
    "\n",
    "# A utilização da função arange, poderia ser substituida por uma lista com duas posições ex.: [0,1]\n",
    "tamanho = np.arange(2)\n",
    "\n",
    "# Criação do plot para melhor visualização dos dados\n",
    "BarSobreviventes = plt.bar(0\n",
    "                           ,qt_sobreviventes\n",
    "                           ,color='blue'\n",
    "                           ,label='sobreviventes'\n",
    "                          )\n",
    "\n",
    "BarMortos = plt.bar(1\n",
    "                    ,qt_mortos\n",
    "                    ,color='red'\n",
    "                    ,label='Mortos'\n",
    "                   )\n",
    "\n",
    "plt.ylabel('Quantidade')\n",
    "plt.title('Relação de Sobreviventes e Mortos')\n",
    "plt.xticks(tamanho, label)\n",
    "plt.show();"
   ]
  },
  {
   "cell_type": "markdown",
   "metadata": {},
   "source": [
    "O gráfico acima demonstra que a quantidade de pessoas mortas (549) acabou sendo maior que a quantidade de pessoas que sobreviveram (342).\n",
    "\n",
    "Para as pessoas que morreram, infelizmente não é possível obter a informação sobre o tipo de morte, que na ocasião poderia ser por afogamento, explosão ou até mesmo de hipotermia."
   ]
  },
  {
   "cell_type": "markdown",
   "metadata": {},
   "source": [
    "### Qual faixa etária com a idade teve a maior taxa de sobrevivência?"
   ]
  },
  {
   "cell_type": "code",
   "execution_count": 119,
   "metadata": {},
   "outputs": [
    {
     "data": {
      "text/html": [
       "<div>\n",
       "<style scoped>\n",
       "    .dataframe tbody tr th:only-of-type {\n",
       "        vertical-align: middle;\n",
       "    }\n",
       "\n",
       "    .dataframe tbody tr th {\n",
       "        vertical-align: top;\n",
       "    }\n",
       "\n",
       "    .dataframe thead th {\n",
       "        text-align: right;\n",
       "    }\n",
       "</style>\n",
       "<table border=\"1\" class=\"dataframe\">\n",
       "  <thead>\n",
       "    <tr style=\"text-align: right;\">\n",
       "      <th>Sobrevivente</th>\n",
       "      <th>1</th>\n",
       "    </tr>\n",
       "    <tr>\n",
       "      <th>faixa_etaria</th>\n",
       "      <th></th>\n",
       "    </tr>\n",
       "  </thead>\n",
       "  <tbody>\n",
       "    <tr>\n",
       "      <th>criancas</th>\n",
       "      <td>38</td>\n",
       "    </tr>\n",
       "    <tr>\n",
       "      <th>adultos</th>\n",
       "      <td>275</td>\n",
       "    </tr>\n",
       "    <tr>\n",
       "      <th>idosos</th>\n",
       "      <td>22</td>\n",
       "    </tr>\n",
       "  </tbody>\n",
       "</table>\n",
       "</div>"
      ],
      "text/plain": [
       "Sobrevivente    1\n",
       "faixa_etaria     \n",
       "criancas       38\n",
       "adultos       275\n",
       "idosos         22"
      ]
     },
     "execution_count": 119,
     "metadata": {},
     "output_type": "execute_result"
    }
   ],
   "source": [
    "# Retorna o quantidade somente dos sobreviventes por faixa etária\n",
    "df_titanic.query('Sobrevivente == \"1\"').groupby([\"faixa_etaria\",\"Sobrevivente\"])[\"faixa_etaria\"].size().unstack()"
   ]
  },
  {
   "cell_type": "code",
   "execution_count": 120,
   "metadata": {},
   "outputs": [
    {
     "data": {
      "text/html": [
       "<div>\n",
       "<style scoped>\n",
       "    .dataframe tbody tr th:only-of-type {\n",
       "        vertical-align: middle;\n",
       "    }\n",
       "\n",
       "    .dataframe tbody tr th {\n",
       "        vertical-align: top;\n",
       "    }\n",
       "\n",
       "    .dataframe thead th {\n",
       "        text-align: right;\n",
       "    }\n",
       "</style>\n",
       "<table border=\"1\" class=\"dataframe\">\n",
       "  <thead>\n",
       "    <tr style=\"text-align: right;\">\n",
       "      <th>Sobrevivente</th>\n",
       "      <th>0</th>\n",
       "    </tr>\n",
       "    <tr>\n",
       "      <th>faixa_etaria</th>\n",
       "      <th></th>\n",
       "    </tr>\n",
       "  </thead>\n",
       "  <tbody>\n",
       "    <tr>\n",
       "      <th>criancas</th>\n",
       "      <td>33</td>\n",
       "    </tr>\n",
       "    <tr>\n",
       "      <th>adultos</th>\n",
       "      <td>474</td>\n",
       "    </tr>\n",
       "    <tr>\n",
       "      <th>idosos</th>\n",
       "      <td>42</td>\n",
       "    </tr>\n",
       "  </tbody>\n",
       "</table>\n",
       "</div>"
      ],
      "text/plain": [
       "Sobrevivente    0\n",
       "faixa_etaria     \n",
       "criancas       33\n",
       "adultos       474\n",
       "idosos         42"
      ]
     },
     "execution_count": 120,
     "metadata": {},
     "output_type": "execute_result"
    }
   ],
   "source": [
    "# Retorna o quantidade somente dos mortos por faixa etária\n",
    "df_titanic.query('Sobrevivente == \"0\"').groupby([\"faixa_etaria\",\"Sobrevivente\"])[\"faixa_etaria\"].size().unstack()"
   ]
  },
  {
   "cell_type": "markdown",
   "metadata": {},
   "source": [
    "Para o grupo dos sobreviventes, observa-se que os adultos tiveram um índice maior de sobrevivência se somado com as crianças e idosos.\n",
    "\n",
    "E para o grupo dos mortos, não difere do grupo acima, porém sendo muito maior o índice de mortes na faixa adulta que o dos sobreviventes na mesma faixa etária.\n",
    "\n",
    "No gráfico que será apresentado logo abaixo, é possível observar de forma mais clara o que fora descrito em relação aos dois grupos. "
   ]
  },
  {
   "cell_type": "code",
   "execution_count": 121,
   "metadata": {},
   "outputs": [
    {
     "data": {
      "image/png": "[encoded data removed]",
      "text/plain": [
       "<Figure size 432x288 with 1 Axes>"
      ]
     },
     "metadata": {},
     "output_type": "display_data"
    }
   ],
   "source": [
    "'''\n",
    "Utilizando o DataFrame df_titanic, foi possível utilzar a groupby pelos campos faixa_etária e sobrevivente, retornando\n",
    "a descrição da faixa etária.\n",
    "\n",
    "O .size() é um método interno de objetos DataFrameGroupBy, na verdade, retorna um objeto de série com os tamanhos de grupo\n",
    "e não um DataFrame. Ref.: https://bit.ly/2B2engC\n",
    "\n",
    "O .unstack() é um método que transforma valores de índice em nomes de colunas. Ref.: https://bit.ly/2FYOrpB\n",
    "'''\n",
    "\n",
    "# Agrupa pelos campos (faixa_etaria e sobrevivente) e retorna um gráfico de barra.\n",
    "df_titanic.groupby([\"faixa_etaria\",\"Sobrevivente\"])[\"faixa_etaria\"].size().unstack().plot.bar()\n",
    "plt.title(\"Taxa de Sobrevivência por Faixa Etária\")\n",
    "plt.legend(['Mortos','Sobreviventes'])\n",
    "plt.xlabel('Faixa Etária')\n",
    "plt.ylabel('Quantidade')\n",
    "plt.show();"
   ]
  },
  {
   "cell_type": "code",
   "execution_count": 122,
   "metadata": {},
   "outputs": [
    {
     "data": {
      "image/png": "[encoded data removed]",
      "text/plain": [
       "<Figure size 432x288 with 1 Axes>"
      ]
     },
     "metadata": {},
     "output_type": "display_data"
    }
   ],
   "source": [
    "# Gráfico complementar com informações por idade\n",
    "df_titanic.groupby([\"Idade\",\"Sobrevivente\"])[\"Idade\"].size().unstack().plot.line()\n",
    "plt.title(\"Taxa de Sobrevivência por Idade\")\n",
    "plt.legend(['Mortos','Sobreviventes'])\n",
    "plt.xlabel('Idade')\n",
    "plt.ylabel('Quantidade')\n",
    "plt.show();"
   ]
  },
  {
   "cell_type": "markdown",
   "metadata": {},
   "source": [
    "No gráfico acima, é possível observar que o índice de sobrevivência da idade de 30 anos é menor que o índice de mortes nessa mesma idade."
   ]
  },
  {
   "cell_type": "markdown",
   "metadata": {},
   "source": [
    "### Entre as classes que haviam no Titanic, qual sofreu maior perda?"
   ]
  },
  {
   "cell_type": "code",
   "execution_count": 123,
   "metadata": {},
   "outputs": [
    {
     "data": {
      "text/html": [
       "<div>\n",
       "<style scoped>\n",
       "    .dataframe tbody tr th:only-of-type {\n",
       "        vertical-align: middle;\n",
       "    }\n",
       "\n",
       "    .dataframe tbody tr th {\n",
       "        vertical-align: top;\n",
       "    }\n",
       "\n",
       "    .dataframe thead th {\n",
       "        text-align: right;\n",
       "    }\n",
       "</style>\n",
       "<table border=\"1\" class=\"dataframe\">\n",
       "  <thead>\n",
       "    <tr style=\"text-align: right;\">\n",
       "      <th>Sobrevivente</th>\n",
       "      <th>0</th>\n",
       "      <th>1</th>\n",
       "    </tr>\n",
       "    <tr>\n",
       "      <th>Classe_Bilhete</th>\n",
       "      <th></th>\n",
       "      <th></th>\n",
       "    </tr>\n",
       "  </thead>\n",
       "  <tbody>\n",
       "    <tr>\n",
       "      <th>1</th>\n",
       "      <td>80</td>\n",
       "      <td>136</td>\n",
       "    </tr>\n",
       "    <tr>\n",
       "      <th>2</th>\n",
       "      <td>97</td>\n",
       "      <td>87</td>\n",
       "    </tr>\n",
       "    <tr>\n",
       "      <th>3</th>\n",
       "      <td>372</td>\n",
       "      <td>119</td>\n",
       "    </tr>\n",
       "  </tbody>\n",
       "</table>\n",
       "</div>"
      ],
      "text/plain": [
       "Sobrevivente      0    1\n",
       "Classe_Bilhete          \n",
       "1                80  136\n",
       "2                97   87\n",
       "3               372  119"
      ]
     },
     "execution_count": 123,
     "metadata": {},
     "output_type": "execute_result"
    }
   ],
   "source": [
    "# Retorna o quantidade pela coluna Classe_Bilhete\n",
    "df_titanic.groupby([\"Classe_Bilhete\",\"Sobrevivente\"])[\"Classe_Bilhete\"].count().unstack()"
   ]
  },
  {
   "cell_type": "code",
   "execution_count": 124,
   "metadata": {},
   "outputs": [
    {
     "data": {
      "image/png": "[encoded data removed]",
      "text/plain": [
       "<Figure size 432x288 with 1 Axes>"
      ]
     },
     "metadata": {},
     "output_type": "display_data"
    }
   ],
   "source": [
    "# Retorna o gráfico de barra as informações entre os sobreviventes da primeira, segunda e terceira classe.\n",
    "df_titanic.groupby([\"Classe_Bilhete\",\"Sobrevivente\"])[\"Classe_Bilhete\"].size().unstack().plot.bar()\n",
    "plt.title(\"Sobreviventes por Classe\")\n",
    "plt.legend(['Mortos','Sobreviventes'])\n",
    "plt.xlabel('Classe')\n",
    "plt.ylabel('Quantidade')\n",
    "plt.show();"
   ]
  },
  {
   "cell_type": "markdown",
   "metadata": {},
   "source": [
    "Seguem algumas observações em relação ao gráfico acima:<br> <br>\n",
    "    1- Na primeira classe, a quantidade de sobreviventes é maior que a quantidade de mortos de sua própria classe e também das demais.<br>Na primeira classe, a quantidade de mortos é menor que qualquer outra classe;<br> <br>\n",
    "    2- Na segunda classe, a quantidade de mortos supera a da primeira, porém a de sobreviventes fica abaixo não só dela mesma em comparação aos mortos quanto das demais;<br> <br>\n",
    "    3- E por fim, para a terceira classe, o total de mortos supera em muito a quantidade das classes já mensionadas. Isso leva a refletir sobre serem eles os primeiros a sentirem o impacto da colisão."
   ]
  },
  {
   "cell_type": "markdown",
   "metadata": {},
   "source": [
    "### Por sexo, qual teve maior perda significativa?"
   ]
  },
  {
   "cell_type": "code",
   "execution_count": 125,
   "metadata": {},
   "outputs": [
    {
     "data": {
      "text/html": [
       "<div>\n",
       "<style scoped>\n",
       "    .dataframe tbody tr th:only-of-type {\n",
       "        vertical-align: middle;\n",
       "    }\n",
       "\n",
       "    .dataframe tbody tr th {\n",
       "        vertical-align: top;\n",
       "    }\n",
       "\n",
       "    .dataframe thead th {\n",
       "        text-align: right;\n",
       "    }\n",
       "</style>\n",
       "<table border=\"1\" class=\"dataframe\">\n",
       "  <thead>\n",
       "    <tr style=\"text-align: right;\">\n",
       "      <th>Sobrevivente</th>\n",
       "      <th>0</th>\n",
       "      <th>1</th>\n",
       "    </tr>\n",
       "    <tr>\n",
       "      <th>Sexo</th>\n",
       "      <th></th>\n",
       "      <th></th>\n",
       "    </tr>\n",
       "  </thead>\n",
       "  <tbody>\n",
       "    <tr>\n",
       "      <th>F</th>\n",
       "      <td>81</td>\n",
       "      <td>233</td>\n",
       "    </tr>\n",
       "    <tr>\n",
       "      <th>M</th>\n",
       "      <td>468</td>\n",
       "      <td>109</td>\n",
       "    </tr>\n",
       "  </tbody>\n",
       "</table>\n",
       "</div>"
      ],
      "text/plain": [
       "Sobrevivente    0    1\n",
       "Sexo                  \n",
       "F              81  233\n",
       "M             468  109"
      ]
     },
     "execution_count": 125,
     "metadata": {},
     "output_type": "execute_result"
    }
   ],
   "source": [
    "# Retorna os totais por sexo\n",
    "df_titanic.groupby([\"Sexo\",\"Sobrevivente\"])[\"Sexo\"].size().unstack()"
   ]
  },
  {
   "cell_type": "code",
   "execution_count": 126,
   "metadata": {},
   "outputs": [
    {
     "data": {
      "image/png": "[encoded data removed]",
      "text/plain": [
       "<Figure size 432x432 with 4 Axes>"
      ]
     },
     "metadata": {},
     "output_type": "display_data"
    }
   ],
   "source": [
    "# Gráfico com os totais comparando os sexos\n",
    "titanic = sns.FacetGrid(df_titanic, row='Sexo', col=\"Sobrevivente\", margin_titles=True, hue=\"Sobrevivente\")\n",
    "titanic.map(plt.hist, \"Sobrevivente\")\n",
    "plt.subplots_adjust(top=0.9)\n",
    "titanic.fig.suptitle('Sobreviventes por tipo de Sexo')\n",
    "plt.show();"
   ]
  },
  {
   "cell_type": "markdown",
   "metadata": {},
   "source": [
    "Por fim, esse gráfico demonstra que as mulheres tiveram mais oportunidade de sobreviver que os homens, sendo que estes tiveram uma taxa maior de mortos e menor de sobreviventes."
   ]
  },
  {
   "cell_type": "markdown",
   "metadata": {},
   "source": [
    "# Conclusão"
   ]
  },
  {
   "cell_type": "markdown",
   "metadata": {},
   "source": [
    "Um dos piores desastres marítimos da história, teve início na noite de 14 de abril e terminou na manhã de 15 de abril de 1912, o luxuoso transatlântico RMS Titanic foi ao fundo do mar após colidir com um iceberg no Oceano Atlântico. Estimam-se 2.224 pessoas a bordo com mais de 1.5oo mortos. Fonte(https://bit.ly/1MRWT26).\n",
    "\n",
    "O arquivo utilizado contém 891 registros, no qual dentre ele há informações relevantes sobre os sobreviventes e os que morreram.\n",
    "Estes questionamentos foram respondidos utilizando métodos de visualização mais claras, para que a compreensão do que aconteceu fosse mais simples\n",
    "\n",
    "Seguem algumas observações referentes aos dados:\n",
    "\n",
    "1.\tNo arquivo existem 891 registros e dentre eles, 342 foram sobreviventes contra 549 que morreram;<br><br>\n",
    "\n",
    "2.\tEm relação a faixa etária, os adultos sobreviventes tiveram o total de 275 pessoas que é um valor bem menor que estando na mesma faixa, os mortos foram 474. Já em relação a idade, morreram mais adultos entre 14 e 50 anos com um pico nos 30 anos que chega aproximadamente a umas 140 pessoas. Em relação aos sobreviventes, as informações que correspondem a adultos e idade entre 14 a 50 anos, são bem aproximadas, exceto pelo pico dos 30 anos que é menor, chegando a 60 pessoas;<br><br>\n",
    "\n",
    "3.\tEm se tratando dos dados referentes a classes, a primeira classe teve 80 mortos e 136 sobreviventes, a segunda classe teve 97 mortos e 87 sobreviventes e por fim, a terceira classe teve 372 mortos e 119 sobreviventes. Logo, a terceira classe foi a que mais obteve um número significativo de mortos.<br><br>\n",
    "\n",
    "4.\tCom a regra de mulheres e crianças primeiro, os homens já ficam com um índice muito superior de mortos com um total de 468 contra 81 das mulheres e se tratando dos sobreviventes, os homens tiveram 109 e as mulheres 233 no total.<br><br>\n",
    "\n",
    "É importante ressaltar que as análises feitas não são de fato precisas, pois em nenhum momento houveram testes estatísticos para trazer veracidade ao que fora apresentado e sim uma alusão as limitações dos dados que foram trabalhados.\n",
    "\n",
    "Em um contexto mais amplo, houveram ajustes que de forma substancial influenciam no resultado. Um deles foi a substituição dos valores nulos na coluna de idade e também o caráter técnico que ainda não abrange um maior conhecimento para conseguir extrair informações ainda mais consistentes.\n"
   ]
  }
 ],
 "metadata": {
  "kernelspec": {
   "display_name": "Python 3",
   "language": "python",
   "name": "python3"
  },
  "language_info": {
   "codemirror_mode": {
    "name": "ipython",
    "version": 3
   },
   "file_extension": ".py",
   "mimetype": "text/x-python",
   "name": "python",
   "nbconvert_exporter": "python",
   "pygments_lexer": "ipython3",
   "version": "3.6.5"
  }
 },
 "nbformat": 4,
 "nbformat_minor": 2
}
